{
 "cells": [
  {
   "cell_type": "code",
   "execution_count": 5,
   "metadata": {
    "collapsed": true,
    "ExecuteTime": {
     "start_time": "2023-12-05T21:42:36.744360Z",
     "end_time": "2023-12-05T21:42:36.753362Z"
    }
   },
   "outputs": [],
   "source": [
    "import torch\n",
    "import torch.nn.functional as F"
   ]
  },
  {
   "cell_type": "code",
   "execution_count": 30,
   "outputs": [],
   "source": [
    "def pad_tensor_shapes_if_odd(inp_tensor):\n",
    "    tensor_shape = [0 for _ in range(4)]\n",
    "    print(f'2nd: {inp_tensor.shape[2]} 3rd: {inp_tensor.shape[3]}')\n",
    "    print(f'2nd: {inp_tensor.shape[2] % 2} 3rd: {inp_tensor.shape[3] % 2}')\n",
    "    tensor_shape[2] = inp_tensor.shape[2] % 2\n",
    "    tensor_shape[0] = inp_tensor.shape[3] % 2\n",
    "    return F.pad(inp_tensor, tensor_shape, \"constant\", 0)"
   ],
   "metadata": {
    "collapsed": false,
    "ExecuteTime": {
     "start_time": "2023-12-05T21:50:09.881383Z",
     "end_time": "2023-12-05T21:50:09.889384Z"
    }
   }
  },
  {
   "cell_type": "code",
   "execution_count": 31,
   "outputs": [],
   "source": [
    "rand_tens = torch.rand((4,3,2,1))"
   ],
   "metadata": {
    "collapsed": false,
    "ExecuteTime": {
     "start_time": "2023-12-05T21:50:10.100104Z",
     "end_time": "2023-12-05T21:50:10.110106Z"
    }
   }
  },
  {
   "cell_type": "code",
   "execution_count": 32,
   "outputs": [
    {
     "name": "stdout",
     "output_type": "stream",
     "text": [
      "2nd: 2 3rd: 1\n",
      "2nd: 0 3rd: 1\n"
     ]
    },
    {
     "data": {
      "text/plain": "torch.Size([4, 3, 2, 2])"
     },
     "execution_count": 32,
     "metadata": {},
     "output_type": "execute_result"
    }
   ],
   "source": [
    "pad_tensor_shapes_if_odd(rand_tens).shape"
   ],
   "metadata": {
    "collapsed": false,
    "ExecuteTime": {
     "start_time": "2023-12-05T21:50:10.292334Z",
     "end_time": "2023-12-05T21:50:10.313338Z"
    }
   }
  },
  {
   "cell_type": "code",
   "execution_count": null,
   "outputs": [],
   "source": [],
   "metadata": {
    "collapsed": false
   }
  }
 ],
 "metadata": {
  "kernelspec": {
   "display_name": "Python 3",
   "language": "python",
   "name": "python3"
  },
  "language_info": {
   "codemirror_mode": {
    "name": "ipython",
    "version": 2
   },
   "file_extension": ".py",
   "mimetype": "text/x-python",
   "name": "python",
   "nbconvert_exporter": "python",
   "pygments_lexer": "ipython2",
   "version": "2.7.6"
  }
 },
 "nbformat": 4,
 "nbformat_minor": 0
}
